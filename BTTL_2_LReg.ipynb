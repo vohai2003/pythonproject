{
  "nbformat": 4,
  "nbformat_minor": 0,
  "metadata": {
    "colab": {
      "provenance": [],
      "collapsed_sections": [],
      "authorship_tag": "ABX9TyONZ9nQN7RXrAAZRTd9XK5y",
      "include_colab_link": true
    },
    "kernelspec": {
      "name": "python3",
      "display_name": "Python 3"
    },
    "language_info": {
      "name": "python"
    }
  },
  "cells": [
    {
      "cell_type": "markdown",
      "metadata": {
        "id": "view-in-github",
        "colab_type": "text"
      },
      "source": [
        "<a href=\"https://colab.research.google.com/github/vohai2003/pythonproject/blob/main/BTTL_2_LReg.ipynb\" target=\"_parent\"><img src=\"https://colab.research.google.com/assets/colab-badge.svg\" alt=\"Open In Colab\"/></a>"
      ]
    },
    {
      "cell_type": "code",
      "execution_count": 1,
      "metadata": {
        "id": "1nBELaN-47Hw"
      },
      "outputs": [],
      "source": [
        "import numpy"
      ]
    },
    {
      "cell_type": "markdown",
      "source": [
        "Khởi tạo giá trị X"
      ],
      "metadata": {
        "id": "d1bfYISB9fFb"
      }
    },
    {
      "cell_type": "code",
      "source": [
        "X = numpy.array([[1,2,3,4,5],[6,7,8,9,2],[4,5,7,2,1]]).reshape((5,3))"
      ],
      "metadata": {
        "id": "Fv4sKz-75Ro9"
      },
      "execution_count": 9,
      "outputs": []
    },
    {
      "cell_type": "markdown",
      "source": [
        "Khởi tạo vector trọng số"
      ],
      "metadata": {
        "id": "jYAjZ38b9kHu"
      }
    },
    {
      "cell_type": "code",
      "source": [
        "w = numpy.array([2,4,2]).reshape((3,1))"
      ],
      "metadata": {
        "id": "uU3OKQBb5u0x"
      },
      "execution_count": 3,
      "outputs": []
    },
    {
      "cell_type": "markdown",
      "source": [
        "Hàm tính $h_w(X)$"
      ],
      "metadata": {
        "id": "PpGdc6Bs9p-n"
      }
    },
    {
      "cell_type": "code",
      "source": [
        "def h(X,w):\n",
        "  return X@w"
      ],
      "metadata": {
        "id": "gH8e8Et754CP"
      },
      "execution_count": 10,
      "outputs": []
    },
    {
      "cell_type": "markdown",
      "source": [
        "Hàm tính $J(w)$"
      ],
      "metadata": {
        "id": "YSgontqH96H-"
      }
    },
    {
      "cell_type": "code",
      "source": [
        "def loss(X,w,y):\n",
        "  m = X.shape[1]\n",
        "  return (1/(2*m))*numpy.sum(numpy.square(h(X,w)-y))"
      ],
      "metadata": {
        "id": "MeT2A4Jc6Db5"
      },
      "execution_count": 12,
      "outputs": []
    },
    {
      "cell_type": "markdown",
      "source": [
        "Hàm tính $\\triangledown J(w)$"
      ],
      "metadata": {
        "id": "4hOmCzuE99xm"
      }
    },
    {
      "cell_type": "code",
      "source": [
        "def gradient(X,w,y):\n",
        "  m = X.shape[1]\n",
        "  return (1/m)*X.T@(h(X,w)-y)"
      ],
      "metadata": {
        "id": "5hUJ8M3_7CBJ"
      },
      "execution_count": 22,
      "outputs": []
    },
    {
      "cell_type": "markdown",
      "source": [
        "Hàm cập nhật trọng số"
      ],
      "metadata": {
        "id": "yHSQqjQm-HX5"
      }
    },
    {
      "cell_type": "code",
      "source": [
        "def weightupdate(X,w,y,alpha):\n",
        "  w = w - alpha*gradient(X,w,y)\n",
        "  return w"
      ],
      "metadata": {
        "id": "spXbVHB77boC"
      },
      "execution_count": 27,
      "outputs": []
    }
  ]
}