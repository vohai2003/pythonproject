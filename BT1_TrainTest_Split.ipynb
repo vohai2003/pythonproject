{
  "nbformat": 4,
  "nbformat_minor": 0,
  "metadata": {
    "colab": {
      "provenance": [],
      "collapsed_sections": [],
      "authorship_tag": "ABX9TyMog+ZhXbI8u67nIgmrYLh8",
      "include_colab_link": true
    },
    "kernelspec": {
      "name": "python3",
      "display_name": "Python 3"
    },
    "language_info": {
      "name": "python"
    }
  },
  "cells": [
    {
      "cell_type": "markdown",
      "metadata": {
        "id": "view-in-github",
        "colab_type": "text"
      },
      "source": [
        "<a href=\"https://colab.research.google.com/github/vohai2003/pythonproject/blob/main/BT1_TrainTest_Split.ipynb\" target=\"_parent\"><img src=\"https://colab.research.google.com/assets/colab-badge.svg\" alt=\"Open In Colab\"/></a>"
      ]
    },
    {
      "cell_type": "markdown",
      "source": [
        "Mount google drive và import thư viện"
      ],
      "metadata": {
        "id": "feUl8lJ5S6OX"
      }
    },
    {
      "cell_type": "code",
      "execution_count": null,
      "metadata": {
        "id": "T9Wa76LEOokV"
      },
      "outputs": [],
      "source": [
        "from google.colab import drive\n",
        "drive.mount(\"/mnt\")"
      ]
    },
    {
      "cell_type": "code",
      "source": [
        "import numpy\n",
        "from sklearn.model_selection import train_test_split"
      ],
      "metadata": {
        "id": "q6V1ERoWO4V0"
      },
      "execution_count": null,
      "outputs": []
    },
    {
      "cell_type": "code",
      "source": [
        "data = numpy.genfromtxt(\"/mnt/My Drive/Dataset/ex1data1.txt\",delimiter=\",\")\n",
        "X,y = D[:,:-1], D[:,-1]\n",
        "X_train,X_test,y_train,y_test = train_test_split(X,y,test_size=30,random_state=30)"
      ],
      "metadata": {
        "id": "ez_W6IrfO6sJ"
      },
      "execution_count": null,
      "outputs": []
    },
    {
      "cell_type": "markdown",
      "source": [
        "Cú pháp hàm train_test_split:\\\n",
        "sklearn.model_selection.train_test_split(*arrays, test_size=None, train_size=None, random_state=None, shuffle=True, stratify=None)\\\n",
        "- *arrays: Hai tập dữ liệu X,y.  \\\n",
        "- test_size, train_size: quy định độ lớn của tập dữ liệu thử nghiệm / huấn luyện. Chỉ sử dụng một trong hai.\n",
        "- random_state: Nếu khác None và là số nguyên, hàm sẽ dùng số nguyên này để làm seed random. \\\n",
        "- shuffle: quy định việc xáo dữ liệu \\\n",
        "- stratify: Nếu khác None và là array, dữ liệu sẽ được phân lớp và gắn nhãn được truyền vào qua tham số này"
      ],
      "metadata": {
        "id": "sqqRKNKxTB4H"
      }
    },
    {
      "cell_type": "markdown",
      "source": [
        "Thông thường, chúng ta nên để tham số shuffle là True để đảm bảo dữ liệu trong test và train tương đương nhau, tránh trường hợp trong test chứa dữ kiện quan trọng nhưng mô hình không thể tiếp cận.\\\n",
        "Chỉ không xáo dữ liệu nếu nó có tính tuần tự."
      ],
      "metadata": {
        "id": "c0bAtN_EUyWl"
      }
    }
  ]
}