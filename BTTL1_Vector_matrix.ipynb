{
  "nbformat": 4,
  "nbformat_minor": 0,
  "metadata": {
    "colab": {
      "provenance": [],
      "collapsed_sections": [],
      "authorship_tag": "ABX9TyPJegfYZPFBA25oa44HvvE9",
      "include_colab_link": true
    },
    "kernelspec": {
      "name": "python3",
      "display_name": "Python 3"
    },
    "language_info": {
      "name": "python"
    }
  },
  "cells": [
    {
      "cell_type": "markdown",
      "metadata": {
        "id": "view-in-github",
        "colab_type": "text"
      },
      "source": [
        "<a href=\"https://colab.research.google.com/github/vohai2003/pythonproject/blob/main/BTTL1_Vector_matrix.ipynb\" target=\"_parent\"><img src=\"https://colab.research.google.com/assets/colab-badge.svg\" alt=\"Open In Colab\"/></a>"
      ]
    },
    {
      "cell_type": "code",
      "execution_count": 1,
      "metadata": {
        "id": "tDReyAGuxmi2"
      },
      "outputs": [],
      "source": [
        "import numpy"
      ]
    },
    {
      "cell_type": "markdown",
      "source": [
        "Khởi tạo vector hàng v"
      ],
      "metadata": {
        "id": "DTrCgdB2xrlN"
      }
    },
    {
      "cell_type": "code",
      "source": [
        "v = numpy.array([1,2,3,4,5])"
      ],
      "metadata": {
        "id": "EQwrY2wyx10O"
      },
      "execution_count": 2,
      "outputs": []
    },
    {
      "cell_type": "markdown",
      "source": [
        "Khởi tạo vector cột w"
      ],
      "metadata": {
        "id": "1avgN_acyIDM"
      }
    },
    {
      "cell_type": "code",
      "source": [
        "w = numpy.array([1,2,3,4,5]).reshape((5,1))"
      ],
      "metadata": {
        "id": "XvDi-oxRyUOW"
      },
      "execution_count": 3,
      "outputs": []
    },
    {
      "cell_type": "markdown",
      "source": [
        "Biểu diễn số chiều của v và w"
      ],
      "metadata": {
        "id": "hvYNV__jyl-K"
      }
    },
    {
      "cell_type": "code",
      "source": [
        "print(\"v=\\n\",v)\n",
        "print(\"w=\\n\",w)"
      ],
      "metadata": {
        "colab": {
          "base_uri": "https://localhost:8080/"
        },
        "id": "Y-WB9iEcytk9",
        "outputId": "760db0da-983f-4fd9-b4d5-579469ff1eaf"
      },
      "execution_count": 4,
      "outputs": [
        {
          "output_type": "stream",
          "name": "stdout",
          "text": [
            "v=\n",
            " [1 2 3 4 5]\n",
            "w=\n",
            " [[1]\n",
            " [2]\n",
            " [3]\n",
            " [4]\n",
            " [5]]\n"
          ]
        }
      ]
    },
    {
      "cell_type": "code",
      "source": [
        "print(\"Shape of v: \",v.shape)\n",
        "print(\"Shape of w\",w.shape)"
      ],
      "metadata": {
        "colab": {
          "base_uri": "https://localhost:8080/"
        },
        "id": "gXNybCf4ytq1",
        "outputId": "8e2b70d0-389a-4ae1-daaf-818b93cbd159"
      },
      "execution_count": 5,
      "outputs": [
        {
          "output_type": "stream",
          "name": "stdout",
          "text": [
            "Shape of v:  (5,)\n",
            "Shape of w (5, 1)\n"
          ]
        }
      ]
    },
    {
      "cell_type": "markdown",
      "source": [
        "Tạo ma trận ghép u và w"
      ],
      "metadata": {
        "id": "vRu7QpTezMOJ"
      }
    },
    {
      "cell_type": "code",
      "source": [
        "X = numpy.column_stack((v,w))\n",
        "print(\"X=\\n\",X)"
      ],
      "metadata": {
        "colab": {
          "base_uri": "https://localhost:8080/"
        },
        "id": "gc4aeK3yzYb2",
        "outputId": "f11015e9-216a-45a9-a182-0c32384e0c94"
      },
      "execution_count": 9,
      "outputs": [
        {
          "output_type": "stream",
          "name": "stdout",
          "text": [
            "X=\n",
            " [[1 1]\n",
            " [2 2]\n",
            " [3 3]\n",
            " [4 4]\n",
            " [5 5]]\n"
          ]
        }
      ]
    },
    {
      "cell_type": "markdown",
      "source": [
        "Tạo ma trận X"
      ],
      "metadata": {
        "id": "1mLkBaqnzqup"
      }
    },
    {
      "cell_type": "code",
      "source": [
        "X = numpy.array([[1,2,3,4,5],[6,7,8,9,2],[4,5,7,2,1]])"
      ],
      "metadata": {
        "id": "A7zI4XJNzsyA"
      },
      "execution_count": 10,
      "outputs": []
    },
    {
      "cell_type": "markdown",
      "source": [
        "Nhân X với v,w"
      ],
      "metadata": {
        "id": "G8dmeaWl0Bpq"
      }
    },
    {
      "cell_type": "code",
      "source": [
        "Xv = numpy.dot(X,v)\n",
        "print(\"Xv=\\n\",Xv)\n",
        "Xw = numpy.dot(X,w)\n",
        "print(\"Xw=\\n\",Xw)"
      ],
      "metadata": {
        "colab": {
          "base_uri": "https://localhost:8080/"
        },
        "id": "lQyhcD370DLg",
        "outputId": "59c3d355-f2ef-47a6-dc9f-31f3d5a968eb"
      },
      "execution_count": 12,
      "outputs": [
        {
          "output_type": "stream",
          "name": "stdout",
          "text": [
            "Xv=\n",
            " [55 90 48]\n",
            "Xw=\n",
            " [[55]\n",
            " [90]\n",
            " [48]]\n"
          ]
        }
      ]
    },
    {
      "cell_type": "markdown",
      "source": [
        "Khi thực hiện $X⋅v$ cho kết quả là một vector hàng \\\n",
        "Khi thực hiện $X\\cdot w$ cho kết quả là một vector cột"
      ],
      "metadata": {
        "id": "aY89BCwJ0TxT"
      }
    },
    {
      "cell_type": "markdown",
      "source": [
        "Tìm ma trận chuyển vị $X^T$"
      ],
      "metadata": {
        "id": "Z5CQhcrH02mp"
      }
    },
    {
      "cell_type": "code",
      "source": [
        "XT = X.T\n",
        "print(\"XT=\\n\",XT)"
      ],
      "metadata": {
        "colab": {
          "base_uri": "https://localhost:8080/"
        },
        "id": "MZ7hXrJI01fN",
        "outputId": "288157b8-6e61-4e25-8447-b7086089f17f"
      },
      "execution_count": 13,
      "outputs": [
        {
          "output_type": "stream",
          "name": "stdout",
          "text": [
            "XT=\n",
            " [[1 6 4]\n",
            " [2 7 5]\n",
            " [3 8 7]\n",
            " [4 9 2]\n",
            " [5 2 1]]\n"
          ]
        }
      ]
    }
  ]
}