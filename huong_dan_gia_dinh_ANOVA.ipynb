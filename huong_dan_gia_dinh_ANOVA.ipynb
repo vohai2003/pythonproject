{
  "cells": [
    {
      "cell_type": "markdown",
      "metadata": {
        "id": "view-in-github",
        "colab_type": "text"
      },
      "source": [
        "<a href=\"https://colab.research.google.com/github/vohai2003/pythonproject/blob/main/huong_dan_gia_dinh_ANOVA.ipynb\" target=\"_parent\"><img src=\"https://colab.research.google.com/assets/colab-badge.svg\" alt=\"Open In Colab\"/></a>"
      ]
    },
    {
      "cell_type": "markdown",
      "metadata": {
        "id": "I_VPJ9sdUjoE"
      },
      "source": [
        "PHÂN TÍCH ANOVA MỘT CHIỀU\n",
        "\n",
        "Phân tích ANOVA chấp nhận các giả định sau:\n",
        "\n",
        "(1) Tất cả các nhóm đều độc lập với nhau\n",
        "\n",
        "(2) Dữ liệu của mỗi nhóm đều tuân theo phân phối chuẩn. Tính chất này có thể được kiểm định bằng phương pháp Shapiro-Wilks.\n",
        "\n",
        "(3) Phương sai (variance) của các nhóm bằng nhau. Tính chất này có thể được kiểm định bằng phương pháp kiểm định Bartlett hay Levene.\n",
        "\n",
        "Nếu dữ liệu hiện có thỏa mãn các tính chất trên thì chúng ta mới tiến hành kiểm định ANOVA. Do vậy trước khi tiến hành kiểm định ANOVA, chúng ta cần thực hiện kiểm tra tập dữ liệu cần thỏa mãn 3 tính chất trên.\n",
        "    "
      ]
    },
    {
      "cell_type": "code",
      "source": [
        "import numpy\n",
        "import scipy.stats"
      ],
      "metadata": {
        "id": "TzJv4R2UXDJB"
      },
      "execution_count": 9,
      "outputs": []
    },
    {
      "cell_type": "code",
      "execution_count": 25,
      "metadata": {
        "id": "GpTiPvh1UjoK"
      },
      "outputs": [],
      "source": [
        "#Bước 1: Hãy tạo một tập dữ liệu mẫu sample_1 với kích thước 100 tuân theo phân phối chuẩn\n",
        "n_dis = numpy.random.normal(loc=40,scale = 5,size = 100)"
      ]
    },
    {
      "cell_type": "code",
      "execution_count": 26,
      "metadata": {
        "id": "EAQy9eyuUjoM"
      },
      "outputs": [],
      "source": [
        "#Bước 2: hãy tạo tập dữ liệu mẫu sample_2 với kích thước 100 tuân theo phân phối Poisson\n",
        "p_dis = numpy.random.normal(loc=38, scale = 5, size = 100)"
      ]
    },
    {
      "cell_type": "markdown",
      "metadata": {
        "id": "-0dOCreKUjoN"
      },
      "source": [
        "Hãy tham khảo các hướng dẫn sau để kiểm định tính chất thứ 2 bằng phương pháp Shapiro-Wilks đối với sample_1 và sample_2\n",
        "\n",
        "(1) [Tài liệu tham khảo scipy](https://docs.scipy.org/doc/scipy/reference/generated/scipy.stats.shapiro.html)\n",
        "\n",
        "(2) [Hướng dẫn cụ thể của statology](https://www.statology.org/shapiro-wilk-test-python/)"
      ]
    },
    {
      "cell_type": "code",
      "execution_count": 27,
      "metadata": {
        "id": "u5OhOTBmUjoO",
        "colab": {
          "base_uri": "https://localhost:8080/"
        },
        "outputId": "e805ac15-a4a2-4945-ef34-aa4ef7e10205"
      },
      "outputs": [
        {
          "output_type": "stream",
          "name": "stdout",
          "text": [
            "0.9293518662452698\n",
            "Không có bằng chứng cho thấy sample 1 không theo phân phối chuẩn\n",
            "0.25994184613227844\n",
            "Không có bằng chứng cho thấy sample 2 không theo phân phối chuẩn\n"
          ]
        }
      ],
      "source": [
        "alpha = 0.05\n",
        "# Kiểm định phân phối chuẩn với sample 1\n",
        "st , p = scipy.stats.shapiro(n_dis)\n",
        "print(p)\n",
        "if p > alpha:\n",
        "  print(\"Không có bằng chứng cho thấy sample 1 không theo phân phối chuẩn\")\n",
        "else:\n",
        "  print(\"Có bằng chứng cho thấy sample 1 không theo phân phối chuẩn\")\n",
        "#Kiểm định phân phối chuẩn với sample 2\n",
        "st,p = scipy.stats.shapiro(p_dis)\n",
        "print(p)\n",
        "if p > alpha:\n",
        "  print(\"Không có bằng chứng cho thấy sample 2 không theo phân phối chuẩn\")\n",
        "else:\n",
        "  print(\"Có bằng chứng cho thấy sample 2 không theo phân phối chuẩn\")"
      ]
    },
    {
      "cell_type": "markdown",
      "metadata": {
        "id": "5qSH4fltUjoO"
      },
      "source": [
        "Hãy tham khảo các hướng dẫn sau để kiểm định tính chất thứ 3 bằng kiểm định Bartlett hoặc kiểm định Levene\n",
        "\n",
        "(1) [Hướng dẫn tổng quát](https://www.marsja.se/levenes-bartletts-test-of-equality-homogeneity-of-variance-in-python/)\n",
        "\n",
        "(2) [Hướng dẫn ở stackoverflow](https://stackoverflow.com/questions/36141254/how-to-test-for-homoscedasticity-having-the-same-population-variance-in-python)\n",
        "\n",
        "(3) Sử dụng bài giảng về kiểm định Bartlett và Levene ở buổi trước"
      ]
    },
    {
      "cell_type": "code",
      "execution_count": 28,
      "metadata": {
        "id": "abt-c4XQUjoP",
        "colab": {
          "base_uri": "https://localhost:8080/"
        },
        "outputId": "8afda769-0c11-4de5-c66f-2d3c703e8afa"
      },
      "outputs": [
        {
          "output_type": "stream",
          "name": "stdout",
          "text": [
            "0.05524093787981342\n",
            "Không có bằng chứng cho thấy phương sai có sự sai khác\n"
          ]
        }
      ],
      "source": [
        "#Sử dụng kiểm định Bartlett (chỉ áp dụng được với dữ liệu phân phối chuẩn)\n",
        "st , p = scipy.stats.bartlett(n_dis,p_dis)\n",
        "print(p)\n",
        "if p > alpha:\n",
        "  print(\"Không có bằng chứng cho thấy phương sai có sự sai khác\")\n",
        "else:\n",
        "  print(\"Phương sai có sự sai khác\")"
      ]
    },
    {
      "cell_type": "code",
      "execution_count": 29,
      "metadata": {
        "id": "b3PyWfCqUjoR",
        "colab": {
          "base_uri": "https://localhost:8080/"
        },
        "outputId": "41a33f6e-029a-4e14-87b3-2a3d7ae540dd"
      },
      "outputs": [
        {
          "output_type": "stream",
          "name": "stdout",
          "text": [
            "0.022676720943658985\n",
            "Phương sai có sự sai khác\n"
          ]
        }
      ],
      "source": [
        "# Sử dụng kiểm định Levene\n",
        "st , p = scipy.stats.levene(n_dis,p_dis)\n",
        "print(p)\n",
        "if p > alpha:\n",
        "  print(\"Không có bằng chứng cho thấy phương sai có sự sai khác\")\n",
        "else:\n",
        "  print(\"Phương sai có sự sai khác\")"
      ]
    }
  ],
  "metadata": {
    "kernelspec": {
      "display_name": "Python 3",
      "language": "python",
      "name": "python3"
    },
    "language_info": {
      "codemirror_mode": {
        "name": "ipython",
        "version": 3
      },
      "file_extension": ".py",
      "mimetype": "text/x-python",
      "name": "python",
      "nbconvert_exporter": "python",
      "pygments_lexer": "ipython3",
      "version": "3.7.3"
    },
    "colab": {
      "name": "huong-dan-gia-dinh-ANOVA.ipynb",
      "provenance": [],
      "collapsed_sections": [],
      "include_colab_link": true
    }
  },
  "nbformat": 4,
  "nbformat_minor": 0
}